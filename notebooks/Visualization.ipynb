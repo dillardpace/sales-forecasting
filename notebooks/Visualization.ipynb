{
 "cells": [
  {
   "cell_type": "code",
   "execution_count": null,
   "id": "7807f201-31bd-4e77-ad8b-adb2e4282cfc",
   "metadata": {},
   "outputs": [],
   "source": [
    "import pandas as pd\n",
    "import matplotlib.pyplot as plt\n",
    "import seaborn as sns\n",
    "import numpy as np"
   ]
  },
  {
   "cell_type": "code",
   "execution_count": null,
   "id": "45676609-7c78-4d5f-b7ce-179d4ceefc0d",
   "metadata": {},
   "outputs": [],
   "source": [
    "df = pd.read_csv(\"df.csv\")"
   ]
  },
  {
   "cell_type": "code",
   "execution_count": null,
   "id": "2df51892-60f5-4284-a53d-fb3040018886",
   "metadata": {},
   "outputs": [],
   "source": [
    "df.head(5)"
   ]
  },
  {
   "cell_type": "code",
   "execution_count": null,
   "id": "8a00a0bb-e2d3-4817-9b53-a63248367cdd",
   "metadata": {},
   "outputs": [],
   "source": [
    "# Plot 1: Weekly Sales Distribution\n",
    "plt.figure(figsize=(10, 6))\n",
    "sns.histplot(df['Weekly_Sales'], bins=50, kde=True, color='blue')\n",
    "plt.title('Distribution of Weekly Sales')\n",
    "plt.xlabel('Weekly Sales')\n",
    "plt.ylabel('Frequency')\n",
    "plt.xlim(0, df['Weekly_Sales'].max())\n",
    "plt.show()"
   ]
  },
  {
   "cell_type": "code",
   "execution_count": null,
   "id": "470cce82-d98a-4c2f-b9c1-30ff19d9de1d",
   "metadata": {},
   "outputs": [],
   "source": [
    "# Plot 1: Weekly Sales Distribution\n",
    "plt.figure(figsize=(10, 6))\n",
    "sns.histplot(df['Weekly_Sales'], bins=50, kde=True, color='blue')\n",
    "plt.title('Distribution of Weekly Sales')\n",
    "plt.xlabel('Weekly Sales')\n",
    "plt.ylabel('Frequency')\n",
    "plt.xlim(0, 100000)\n",
    "plt.show()"
   ]
  },
  {
   "cell_type": "code",
   "execution_count": null,
   "id": "4bcc94ed-cd87-423d-9f20-4fa65216d14e",
   "metadata": {},
   "outputs": [],
   "source": [
    "# Plot 2: Sales by Store Type\n",
    "plt.figure(figsize=(10, 6))\n",
    "sns.boxplot(x='Type', y='Weekly_Sales', data=df)\n",
    "plt.title('Weekly Sales by Store Type')\n",
    "plt.xlabel('Store Type')\n",
    "plt.ylabel('Weekly Sales')\n",
    "plt.ylim(0, df['Weekly_Sales'].quantile(0.95))  # Exclude outliers\n",
    "plt.show()"
   ]
  },
  {
   "cell_type": "code",
   "execution_count": null,
   "id": "98ee06ca-aaf6-4c65-8072-e0c1c82f8344",
   "metadata": {},
   "outputs": [],
   "source": [
    "# Plot 3: Correlation Heatmap\n",
    "df_heatmap = df.drop(columns = ['Store', 'Dept'])\n",
    "df_heatmap = df.select_dtypes(include=['number'])\n",
    "plt.figure(figsize=(12, 8))\n",
    "correlation_matrix = df_heatmap.corr()\n",
    "sns.heatmap(correlation_matrix, annot=True, fmt='.2f', cmap='coolwarm', square=True)\n",
    "plt.title('Correlation Heatmap')\n",
    "plt.show()"
   ]
  },
  {
   "cell_type": "code",
   "execution_count": null,
   "id": "c8f44b0a-1c06-469c-8e6f-197c4297cd9d",
   "metadata": {},
   "outputs": [],
   "source": [
    "# Plot 4: Sales Trends Over Time\n",
    "df['Date'] = pd.to_datetime(df['Date'])\n",
    "weekly_sales_over_time = df.groupby('Date')['Weekly_Sales'].sum().reset_index()\n",
    "\n",
    "plt.figure(figsize=(14, 7))\n",
    "sns.lineplot(x='Date', y='Weekly_Sales', data=weekly_sales_over_time)\n",
    "plt.title('Total Weekly Sales Over Time')\n",
    "plt.xticks(rotation=45)\n",
    "plt.ylabel('Total Weekly Sales')\n",
    "plt.show()"
   ]
  },
  {
   "cell_type": "code",
   "execution_count": null,
   "id": "eb0bd755-a92f-494e-981b-fcbe26864dc9",
   "metadata": {},
   "outputs": [],
   "source": [
    "outlier_columns = ['MarkDown1', 'MarkDown2', 'MarkDown3', 'MarkDown4', 'MarkDown5', 'Weekly_Sales']\n",
    "df[outlier_columns].hist(bins=30, figsize=(15, 14))\n",
    "plt.suptitle('Histograms of Outlier Variables', fontsize=20)\n",
    "plt.show()"
   ]
  },
  {
   "cell_type": "code",
   "execution_count": null,
   "id": "0b60c800-5afd-4065-93c0-1384d5603114",
   "metadata": {},
   "outputs": [],
   "source": [
    "df_clean = df\n",
    "\n",
    "df_clean[outlier_columns].hist(bins=30, figsize=(15, 14))\n",
    "plt.suptitle('Histograms of Outlier Variables', fontsize=20)\n",
    "plt.show()"
   ]
  },
  {
   "cell_type": "code",
   "execution_count": null,
   "id": "efd0483f-6b75-4448-8895-091bf02ec95c",
   "metadata": {},
   "outputs": [],
   "source": [
    "# Plot 6: Markdowns Impact on Sales\n",
    "markdown_columns = ['MarkDown1', 'MarkDown2', 'MarkDown3', 'MarkDown4', 'MarkDown5']\n",
    "for markdown in markdown_columns:\n",
    "    plt.figure(figsize=(10, 6))\n",
    "    sns.boxplot(x=markdown, y='Weekly_Sales', data=df_clean)\n",
    "    plt.title(f'Weekly Sales vs. {markdown}')\n",
    "    plt.xlabel(markdown)\n",
    "    plt.ylabel('Weekly Sales')\n",
    "    plt.xlim(0, df_clean[markdown].max())  # Avoid too large xlim for better visualization\n",
    "    plt.show()"
   ]
  },
  {
   "cell_type": "code",
   "execution_count": null,
   "id": "e6ae1c74-2b29-4413-8a99-142265dd00c8",
   "metadata": {},
   "outputs": [],
   "source": [
    "df_clean['Date'] = pd.to_datetime(df_clean['Date'])\n",
    "df_clean_cpi = df_clean.groupby('Date')['CPI'].mean().reset_index()\n",
    "plt.figure(figsize=(12,6))\n",
    "plt.plot(df_clean_cpi['Date'], df_clean_cpi['CPI'], marker = 'o', linestyle = '-')\n",
    "plt.title(\"CPI over time\")\n",
    "plt.xlabel(\"Date\")\n",
    "plt.ylabel(\"CPI\")\n",
    "\n",
    "plt.grid(True)\n",
    "plt.show()"
   ]
  },
  {
   "cell_type": "code",
   "execution_count": null,
   "id": "d066383f-5cb3-41f1-b8e3-b7fd05ec546c",
   "metadata": {},
   "outputs": [],
   "source": [
    "#consolidate holiday columns\n",
    "assert (df_clean['IsHoliday_x'] == df_clean['IsHoliday_y']).all(), \"Holiday columns do not match\"\n",
    "\n",
    "df_clean.drop(columns='IsHoliday_y', inplace=True)\n",
    "df_clean.rename(columns={'IsHoliday_x': 'IsHoliday'}, inplace=True)"
   ]
  },
  {
   "cell_type": "code",
   "execution_count": null,
   "id": "49c51158-bb55-4104-9ad5-8469ee7c1ea1",
   "metadata": {},
   "outputs": [],
   "source": [
    "# from openai import OpenAI\n",
    "\n",
    "# def feature_engineering(sample, target_variable):\n",
    "#     client = OpenAI(\n",
    "#         api_key=\"sk-REDACTED\"\n",
    "#     )\n",
    "\n",
    "#     messages = [\n",
    "#         {\n",
    "#             \"role\": \"system\",\n",
    "#             \"content\": \"You are an expert data scientist. Suggest new features to improve prediction of the target variable.\"\n",
    "#         },\n",
    "#         {\n",
    "#             \"role\": \"user\",\n",
    "#             \"content\": f\"\"\"Here's a sample of my dataset (in CSV format):\n",
    "\n",
    "# {sample}\n",
    "\n",
    "# The target variable is: {target_variable}\n",
    "\n",
    "# Please suggest 3 new features with:\n",
    "# - A short name and explanation\n",
    "# - Python code to create each one\n",
    "# - Python code to visualize its relationship with the target variable\n",
    "# \"\"\"\n",
    "#         }\n",
    "#     ]\n",
    "\n",
    "#     response = client.chat.completions.create(\n",
    "#         model=\"gpt-4o-mini\",\n",
    "#         messages=messages\n",
    "#     )\n",
    "\n",
    "#     return response.choices[0].message.content"
   ]
  },
  {
   "cell_type": "code",
   "execution_count": null,
   "id": "50286c00-dfb9-4b12-9f04-ec88ed6f774c",
   "metadata": {},
   "outputs": [],
   "source": [
    "# sample = df_clean.sample(n=100, random_state=1).to_csv(index=False)\n",
    "# output = feature_engineering(sample, \"Weekly_Sales\")\n",
    "# print(output)"
   ]
  },
  {
   "cell_type": "code",
   "execution_count": null,
   "id": "68dbb790-29cf-470a-aeeb-042bc477a771",
   "metadata": {},
   "outputs": [],
   "source": [
    "### 1. **Lagged Sales**\n",
    "#This feature captures the weekly sales from previous periods, which can be indicative of trends or patterns in customer behavior. By looking back at sales from prior weeks, you can establish a baseline for expected performance.\n",
    "\n",
    "df_clean['Date'] = pd.to_datetime(df_clean['Date'])\n",
    "df_clean = df_clean.sort_values(by=['Store', 'Dept', 'Date'])\n",
    "df_clean['Lagged_Sales'] = df_clean.groupby(['Store', 'Dept'])['Weekly_Sales'].shift(1)\n",
    "\n",
    "#to visualize\n",
    "plt.figure(figsize=(12, 6))\n",
    "sns.scatterplot(x='Lagged_Sales', y='Weekly_Sales', data=df_clean)\n",
    "plt.title(\"Lagged Sales vs. Weekly Sales\")\n",
    "plt.xlabel(\"Lagged Sales\")\n",
    "plt.ylabel(\"Weekly Sales\")\n",
    "plt.show()"
   ]
  },
  {
   "cell_type": "code",
   "execution_count": null,
   "id": "5ac46245-620e-44ca-95d2-b7a864eacf3f",
   "metadata": {},
   "outputs": [],
   "source": [
    "df_clean.head(5)"
   ]
  },
  {
   "cell_type": "code",
   "execution_count": null,
   "id": "08f7ab56-4a3d-4bac-a733-03bb7e489382",
   "metadata": {},
   "outputs": [],
   "source": [
    "### **Sales Growth Rate**\n",
    "### This feature calculates the percentage change in weekly sales compared to the previous week. A growing or declining trend can significantly affect future sales.\n",
    "\n",
    "df_clean['Sales_Growth_Rate'] = round(df.groupby(['Store', 'Dept'])['Weekly_Sales'].pct_change() * 100, 2)\n",
    "\n",
    "plt.figure(figsize=(12, 6))\n",
    "sns.lineplot(x='Date', y='Sales_Growth_Rate', hue='Store', data=df_clean, errorbar=None)\n",
    "plt.title(\"Sales Growth Rate Over Time by Store\")\n",
    "plt.xlabel(\"Date\")\n",
    "plt.ylabel(\"Sales Growth Rate (%)\")\n",
    "plt.show()"
   ]
  },
  {
   "cell_type": "code",
   "execution_count": null,
   "id": "3068beec-0923-423c-87c2-a545042478b9",
   "metadata": {},
   "outputs": [],
   "source": [
    "### 3. **Temperature Z-score**\n",
    "# This feature normalizes temperature observations into Z-scores, helping to identify how unusual temperatures may relate to weekly sales. Extreme temperatures can significantly impact customer footfall and sales.\n",
    "from scipy.stats import zscore\n",
    "\n",
    "df_clean['Temperature_Zscore'] = df_clean['Temperature'].transform(zscore)\n",
    "\n",
    "plt.figure(figsize=(20, 10))\n",
    "sns.boxplot(x='Temperature_Zscore', y='Weekly_Sales', data=df_clean)\n",
    "plt.title(\"Temperature Z-score vs. Weekly Sales\")\n",
    "plt.xlabel(\"Temperature Z-score\")\n",
    "plt.ylabel(\"Weekly Sales\")\n",
    "plt.show()"
   ]
  },
  {
   "cell_type": "code",
   "execution_count": null,
   "id": "a62db34c-8902-4815-b364-02c852674ce4",
   "metadata": {},
   "outputs": [],
   "source": [
    "df_clean.isna().sum()"
   ]
  },
  {
   "cell_type": "code",
   "execution_count": null,
   "id": "ae507c27-8f2c-411d-bcd1-632b7b5d76fd",
   "metadata": {},
   "outputs": [],
   "source": [
    "df_clean['Sales_Growth_Rate'] = df_clean['Sales_Growth_Rate'].replace([np.inf, -np.inf], np.nan)\n",
    "df_clean['Lagged_Sales'] = df_clean['Lagged_Sales'].fillna(df_clean['Lagged_Sales'].median())\n",
    "df_clean['Sales_Growth_Rate'] = df_clean['Sales_Growth_Rate'].fillna(df_clean['Sales_Growth_Rate'].median())\n",
    "\n",
    "\n",
    "print(df_clean['Lagged_Sales'].isna().sum())\n",
    "print(df_clean['Sales_Growth_Rate'].isna().sum())"
   ]
  },
  {
   "cell_type": "code",
   "execution_count": null,
   "id": "024eab87-5320-46b1-bb59-13c50536495c",
   "metadata": {},
   "outputs": [],
   "source": [
    "df_clean.to_csv(\"df_clean.csv\", index=False)"
   ]
  }
 ],
 "metadata": {
  "kernelspec": {
   "display_name": "Python 3 (ipykernel)",
   "language": "python",
   "name": "python3"
  },
  "language_info": {
   "codemirror_mode": {
    "name": "ipython",
    "version": 3
   },
   "file_extension": ".py",
   "mimetype": "text/x-python",
   "name": "python",
   "nbconvert_exporter": "python",
   "pygments_lexer": "ipython3",
   "version": "3.12.2"
  }
 },
 "nbformat": 4,
 "nbformat_minor": 5
}
