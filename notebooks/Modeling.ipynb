{
 "cells": [
  {
   "cell_type": "code",
   "execution_count": null,
   "id": "68003e0e-96cc-441b-9be3-63790c53ea67",
   "metadata": {},
   "outputs": [],
   "source": [
    "import pandas as pd\n",
    "\n",
    "pd.set_option('display.max_rows', None)\n",
    "pd.set_option('display.max_columns', None)\n",
    "pd.set_option('display.expand_frame_repr', False)\n",
    "\n",
    "from sklearn.preprocessing import OneHotEncoder\n",
    "from sklearn.preprocessing import StandardScaler\n",
    "import numpy as np\n",
    "import seaborn as sns\n",
    "import matplotlib.pyplot as plt\n",
    "from scipy.stats import pointbiserialr\n",
    "from scipy.stats import chi2_contingency\n",
    "from sklearn.linear_model import LogisticRegression\n",
    "from sklearn.model_selection import train_test_split\n",
    "from sklearn.metrics import accuracy_score, classification_report, confusion_matrix\n",
    "from IPython.core.interactiveshell import InteractiveShell\n",
    "import os\n",
    "InteractiveShell.ast_node_interactivity = \"all\""
   ]
  },
  {
   "cell_type": "code",
   "execution_count": null,
   "id": "01b5d349-e66f-471f-b925-f8014b4e56fe",
   "metadata": {},
   "outputs": [],
   "source": [
    "df_clean = pd.read_csv(\"df_clean.csv\")\n",
    "df_clean.head(5)"
   ]
  },
  {
   "cell_type": "code",
   "execution_count": null,
   "id": "f3254c34-a045-40bd-95a9-3ab672fa7e09",
   "metadata": {},
   "outputs": [],
   "source": [
    "x_features = ['Size', 'Temperature', 'Fuel_Price', 'MarkDown1', 'MarkDown2', 'MarkDown3', 'MarkDown4', 'CPI', 'Unemployment']\n",
    "print(np.isinf(df_clean[x_features]).sum())\n",
    "scaler = StandardScaler()\n",
    "df_scaled = scaler.fit_transform(df_clean[x_features])\n",
    "df_scaled = pd.DataFrame(df_scaled, columns = x_features)\n",
    "df_scaled.head(5)"
   ]
  },
  {
   "cell_type": "code",
   "execution_count": null,
   "id": "e1e5cbfb-fb49-4564-8a11-1669d0f37373",
   "metadata": {},
   "outputs": [],
   "source": [
    "from sklearn.linear_model import LinearRegression\n",
    "\n",
    "X = df_scaled\n",
    "# y = scaler.fit_transform(df_clean['Weekly_Sales'].values.reshape(-1,1)).ravel()\n",
    "y = df_clean['Weekly_Sales']\n",
    "\n",
    "X_train, X_test, y_train, y_test = train_test_split(X, y, test_size = 0.2, random_state = 1)\n",
    "\n",
    "linear_reg = LinearRegression()\n",
    "linear_reg.fit(X_train, y_train)\n",
    "\n",
    "y_pred = linear_reg.predict(X_test)"
   ]
  },
  {
   "cell_type": "code",
   "execution_count": null,
   "id": "d53c078c-5a82-49dc-a076-bf4403544b4a",
   "metadata": {},
   "outputs": [],
   "source": [
    "from sklearn.metrics import r2_score\n",
    "from sklearn.metrics import mean_absolute_error\n",
    "from sklearn.metrics import mean_squared_error\n",
    "from sklearn.metrics import accuracy_score\n",
    "\n",
    "lreg_mae = mean_absolute_error(y_test, y_pred)\n",
    "lreg_mse = mean_squared_error(y_test, y_pred)\n",
    "lreg_r2 = r2_score(y_test, y_pred)\n",
    "print(f\"MAE: {lreg_mae:.3f}\")\n",
    "print(f\"MSE: {lreg_mse:.3f}\")\n",
    "print(f\"R^2: {lreg_r2:.3f}\")"
   ]
  },
  {
   "cell_type": "code",
   "execution_count": null,
   "id": "ac0a9f81",
   "metadata": {},
   "outputs": [],
   "source": [
    "print(y.shape)\n",
    "print(X.shape)\n",
    "print(y_pred.shape)\n",
    "print(y_test.shape)"
   ]
  },
  {
   "cell_type": "code",
   "execution_count": null,
   "id": "899fea68",
   "metadata": {},
   "outputs": [],
   "source": [
    "import numpy as np\n",
    "\n",
    "#Plot regression\n",
    "#Get limits for line\n",
    "min_val = min(y_test.min(), y_pred.min())\n",
    "max_val = max(y_test.max(), y_pred.max())\n",
    "\n",
    "#Plot scatterplot\n",
    "plt.figure(figsize=(8,6))\n",
    "sns.scatterplot(x=y_test, y=y_pred, alpha=0.7)\n",
    "plt.xlabel('Actual')\n",
    "plt.ylabel('Predicted')\n",
    "plt.title(\"Linear Regression Model\")\n",
    "\n",
    "#Plot line\n",
    "plt.plot([min_val, max_val], [min_val, max_val], color='red', linestyle='--')\n",
    "plt.xlim([-5000,150000])\n",
    "plt.ylim([0,40000])\n",
    "plt.tight_layout()\n",
    "plt.show()"
   ]
  },
  {
   "cell_type": "code",
   "execution_count": null,
   "id": "df67fda9",
   "metadata": {},
   "outputs": [],
   "source": [
    "df_clean.head(5)\n",
    "df_clean['Type'] = df_clean['Type'].astype(str)\n",
    "df_clean = pd.get_dummies(df_clean, columns = ['Type'], prefix = 'type')\n",
    "df_clean.head(5)\n",
    "df_clean.info()"
   ]
  },
  {
   "cell_type": "code",
   "execution_count": null,
   "id": "e53154ea",
   "metadata": {},
   "outputs": [],
   "source": [
    "#random forest data\n",
    "X_rf = df_clean.drop(columns=['Date', 'Weekly_Sales', 'Lagged_Sales', 'Sales_Growth_Rate', 'Temperature_Zscore'])\n",
    "y_rf = df_clean['Weekly_Sales']\n",
    "\n",
    "X_train, X_test, y_train, y_test = train_test_split(X_rf, y_rf, test_size = 0.2, random_state = 42)"
   ]
  },
  {
   "cell_type": "code",
   "execution_count": null,
   "id": "8e7cf552",
   "metadata": {},
   "outputs": [],
   "source": [
    "#random forest (n_estimators = 50 max_depth = 5)\n",
    "import time\n",
    "from sklearn.ensemble import RandomForestRegressor\n",
    "\n",
    "start_time = time.time()\n",
    "rf = RandomForestRegressor(\n",
    "    n_estimators = 50,\n",
    "    max_depth = 5\n",
    ")\n",
    "\n",
    "rf.fit(X_train, y_train)\n",
    "rf_pred = rf.predict(X_test)\n",
    "\n",
    "rf_r2_50_5 = r2_score(y_test, rf_pred)\n",
    "rf_mae_50_5 = mean_absolute_error(y_test, rf_pred)\n",
    "rf_mse_50_5 = mean_squared_error(y_test, rf_pred)\n",
    "print(f\"R^2: {rf_r2_50_5:.3f}\")\n",
    "print(f\"MAE: {rf_mae_50_5:.3f}\")\n",
    "print(f\"MSE: {rf_mse_50_5:.3f}\")\n",
    "\n",
    "end_time = time.time()\n",
    "run_time = end_time - start_time\n",
    "print(run_time)"
   ]
  },
  {
   "cell_type": "code",
   "execution_count": null,
   "id": "cbb6d47f",
   "metadata": {},
   "outputs": [],
   "source": [
    "#random forest (n_estimators = 100 max_depth = 10)\n",
    "import time\n",
    "from sklearn.ensemble import RandomForestRegressor\n",
    "\n",
    "start_time = time.time()\n",
    "rf = RandomForestRegressor(\n",
    "    n_estimators = 100,\n",
    "    max_depth = 10\n",
    ")\n",
    "\n",
    "rf.fit(X_train, y_train)\n",
    "rf_pred = rf.predict(X_test)\n",
    "\n",
    "rf_r2_100_10 = r2_score(y_test, rf_pred)\n",
    "rf_mae_100_10 = mean_absolute_error(y_test, rf_pred)\n",
    "rf_mse_100_10 = mean_squared_error(y_test, rf_pred)\n",
    "print(f\"R^2: {rf_r2_100_10:.3f}\")\n",
    "print(f\"MAE: {rf_mae_100_10:.3f}\")\n",
    "print(f\"MSE: {rf_mse_100_10:.3f}\")\n",
    "\n",
    "end_time = time.time()\n",
    "run_time = end_time - start_time\n",
    "print(run_time)"
   ]
  },
  {
   "cell_type": "code",
   "execution_count": null,
   "id": "62a083fb",
   "metadata": {},
   "outputs": [],
   "source": [
    "#random forest (n_estimators = 100 max_depth = 100)\n",
    "import time\n",
    "from sklearn.ensemble import RandomForestRegressor\n",
    "\n",
    "start_time = time.time()\n",
    "rf = RandomForestRegressor(\n",
    "    n_estimators = 100,\n",
    "    max_depth = 100\n",
    ")\n",
    "\n",
    "rf.fit(X_train, y_train)\n",
    "rf_pred = rf.predict(X_test)\n",
    "\n",
    "rf_r2_100_100 = r2_score(y_test, rf_pred)\n",
    "rf_mae_100_100 = mean_absolute_error(y_test, rf_pred)\n",
    "rf_mse_100_100 = mean_squared_error(y_test, rf_pred)\n",
    "print(f\"R^2: {rf_r2_100_100:.3f}\")\n",
    "print(f\"MAE: {rf_mae_100_100:.3f}\")\n",
    "print(f\"MSE: {rf_mse_100_100:.3f}\")\n",
    "\n",
    "end_time = time.time()\n",
    "run_time = end_time - start_time\n",
    "print(run_time)"
   ]
  },
  {
   "cell_type": "code",
   "execution_count": null,
   "id": "fd7beb7b",
   "metadata": {},
   "outputs": [],
   "source": [
    "#XGBoost Regressor (n = 50)\n",
    "from xgboost import XGBRegressor\n",
    "start_time = time.time()\n",
    "xgb = XGBRegressor(n_estimators = 50)\n",
    "xgb.fit(X_train, y_train)\n",
    "xgb_pred = xgb.predict(X_test)\n",
    "\n",
    "xgb_r2_50 = r2_score(y_test, xgb_pred)\n",
    "xgb_mae_50 = mean_absolute_error(y_test, xgb_pred)\n",
    "xgb_mse_50 = mean_squared_error(y_test, xgb_pred)\n",
    "XGB_accuracy_50 = xgb.score(X_test, y_test)*100\n",
    "print(f\"R^2: {xgb_r2_50:.3f}\")\n",
    "print(f\"MAE: {xgb_mae_50:.3f}\")\n",
    "print(f\"MSE: {xgb_mse_50:.3f}\")\n",
    "print(f\"XGBoost Accuracy = {XGB_accuracy_50:.3f}\")\n",
    "\n",
    "\n",
    "end_time = time.time()\n",
    "run_time = end_time - start_time\n",
    "print(f\"Model execution time: {run_time}\")"
   ]
  },
  {
   "cell_type": "code",
   "execution_count": null,
   "id": "aef1cc55",
   "metadata": {},
   "outputs": [],
   "source": [
    "#XGBoost Regressor (n = 100)\n",
    "start_time = time.time()\n",
    "xgb = XGBRegressor(n_estimators = 200)\n",
    "xgb.fit(X_train, y_train)\n",
    "xgb_pred = xgb.predict(X_test)\n",
    "\n",
    "xgb_r2_100 = r2_score(y_test, xgb_pred)\n",
    "xgb_mae_100 = mean_absolute_error(y_test, xgb_pred)\n",
    "xgb_mse_100 = mean_squared_error(y_test, xgb_pred)\n",
    "XGB_accuracy_100 = xgb.score(X_test, y_test)*100\n",
    "print(f\"R^2: {xgb_r2_100:.3f}\")\n",
    "print(f\"MAE: {xgb_mae_100:.3f}\")\n",
    "print(f\"MSE: {xgb_mse_100:.3f}\")\n",
    "print(f\"XGBoost Accuracy = {XGB_accuracy_100:.3f}\")\n",
    "\n",
    "\n",
    "end_time = time.time()\n",
    "run_time = end_time - start_time\n",
    "print(f\"Model execution time: {run_time}\")"
   ]
  },
  {
   "cell_type": "code",
   "execution_count": null,
   "id": "57848e39",
   "metadata": {},
   "outputs": [],
   "source": [
    "#table of results\n",
    "results = {\n",
    "    \"Model\": [\"Linear Regression\", \"Random Forest\", \"Random Forest\", \"Random Forest\", \"XGBoost\", \"XGBoost\"],\n",
    "    \"MSE\": [lreg_mse, rf_mse_50_5, rf_mse_100_10, rf_mse_100_100, xgb_mse_50, xgb_mse_100],\n",
    "    \"R^2\": [lreg_r2, rf_r2_50_5, rf_r2_100_10, rf_r2_100_100, xgb_r2_50, xgb_r2_100]\n",
    "}\n",
    "\n",
    "results_df = pd.DataFrame(results)\n",
    "print(results_df)"
   ]
  },
  {
   "cell_type": "code",
   "execution_count": null,
   "id": "f498ea50-9207-4737-8b59-d81ab784abe0",
   "metadata": {},
   "outputs": [],
   "source": [
    "df_clean.to_csv(\"df_clean_forecasting.csv\", index=False)"
   ]
  }
 ],
 "metadata": {
  "kernelspec": {
   "display_name": "Python (venv)",
   "language": "python",
   "name": "venv"
  },
  "language_info": {
   "codemirror_mode": {
    "name": "ipython",
    "version": 3
   },
   "file_extension": ".py",
   "mimetype": "text/x-python",
   "name": "python",
   "nbconvert_exporter": "python",
   "pygments_lexer": "ipython3",
   "version": "3.12.2"
  }
 },
 "nbformat": 4,
 "nbformat_minor": 5
}
