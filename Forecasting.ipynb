{
 "cells": [
  {
   "cell_type": "code",
   "execution_count": null,
   "id": "8fd10db8-8a66-4d57-bc97-37f889a99aed",
   "metadata": {},
   "outputs": [],
   "source": [
    "import pandas as pd\n",
    "\n",
    "pd.set_option('display.max_rows', None)\n",
    "pd.set_option('display.max_columns', None)\n",
    "pd.set_option('display.expand_frame_repr', False)\n",
    "\n",
    "from sklearn.preprocessing import OneHotEncoder\n",
    "from sklearn.preprocessing import StandardScaler\n",
    "import numpy as np\n",
    "import seaborn as sns\n",
    "import matplotlib.pyplot as plt\n",
    "from scipy.stats import pointbiserialr\n",
    "from scipy.stats import chi2_contingency\n",
    "from sklearn.linear_model import LogisticRegression\n",
    "from sklearn.model_selection import train_test_split\n",
    "from sklearn.metrics import accuracy_score, classification_report, confusion_matrix\n",
    "from IPython.core.interactiveshell import InteractiveShell\n",
    "import os\n",
    "InteractiveShell.ast_node_interactivity = \"all\""
   ]
  },
  {
   "cell_type": "code",
   "execution_count": null,
   "id": "56b999ad-db2b-4c3c-8e00-d6d52cdb34a7",
   "metadata": {},
   "outputs": [],
   "source": [
    "df_clean = pd.read_csv(\"df_clean_forecasting.csv\")"
   ]
  },
  {
   "cell_type": "code",
   "execution_count": null,
   "id": "ef0494d3-7733-4a08-894d-07ae5687c319",
   "metadata": {},
   "outputs": [],
   "source": [
    "#Arima forecasting\n",
    "weekly_sales = df_clean.groupby('Date')['Weekly_Sales'].sum().reset_index()\n",
    "weekly_sales.set_index('Date', inplace=True)\n",
    "\n",
    "train = weekly_sales.iloc[:-52]\n",
    "test = weekly_sales.iloc[-52:]"
   ]
  },
  {
   "cell_type": "code",
   "execution_count": null,
   "id": "ef209329",
   "metadata": {},
   "outputs": [],
   "source": [
    "#time series plot\n",
    "plt.figure(figsize=(10,4))\n",
    "plt.plot(weekly_sales.index, weekly_sales['Weekly_Sales'])\n",
    "plt.xticks(ticks=weekly_sales.index[::len(weekly_sales)//10], rotation=45)\n",
    "plt.xlabel(\"Date\")\n",
    "plt.ylabel(\"Sales\")\n",
    "plt.title(\"Time Series\")\n",
    "\n",
    "plt.show()"
   ]
  },
  {
   "cell_type": "code",
   "execution_count": null,
   "id": "c72936a6",
   "metadata": {},
   "outputs": [],
   "source": [
    "#1st acf/pacf plots\n",
    "from statsmodels.graphics.tsaplots import plot_acf, plot_pacf\n",
    "acf = plot_acf(weekly_sales, lags=40)\n",
    "plt.show()\n",
    "pacf = plot_pacf(weekly_sales, lags=40)\n",
    "plt.show()"
   ]
  },
  {
   "cell_type": "code",
   "execution_count": null,
   "id": "71882d99",
   "metadata": {},
   "outputs": [],
   "source": [
    "#tuning parameters\n",
    "from statsmodels.tsa.stattools import adfuller\n",
    "\n",
    "result = adfuller(weekly_sales['Weekly_Sales'])\n",
    "print(f\"ADF Statistic: {result[0]}\")\n",
    "print(f\"p-value: {result[1]}\")"
   ]
  },
  {
   "cell_type": "code",
   "execution_count": null,
   "id": "599defd3",
   "metadata": {},
   "outputs": [],
   "source": [
    "# ARIMA(0,0,0)\n",
    "from statsmodels.tsa.arima.model import ARIMA\n",
    "\n",
    "model_000 = ARIMA(train, order=(0,0,0))\n",
    "model_000_fit = model_000.fit()\n",
    "forecast_000 = model_000_fit.forecast(steps=len(test))\n",
    "\n",
    "print(model_000_fit.summary())"
   ]
  },
  {
   "cell_type": "code",
   "execution_count": null,
   "id": "c9b0519e",
   "metadata": {},
   "outputs": [],
   "source": [
    "#plot forecast ARIMA(0,0,0)\n",
    "plt.figure(figsize=(6,2))\n",
    "plt.plot(train.index, train, label='Training')\n",
    "plt.plot(test.index, test, label='Test')\n",
    "plt.plot(test.index, forecast_000, label='Forecast')\n",
    "plt.xticks(ticks=weekly_sales.index[::len(weekly_sales)//10], rotation=45)\n",
    "plt.legend(loc='upper left')\n",
    "plt.show()"
   ]
  },
  {
   "cell_type": "code",
   "execution_count": null,
   "id": "3fcf2015",
   "metadata": {},
   "outputs": [],
   "source": [
    "#ARIMA(1,0,2)\n",
    "model_102 = ARIMA(train, order=(1,0,2))\n",
    "model_102_fit = model_102.fit()\n",
    "forecast_102 = model_102_fit.forecast(steps=len(test))\n",
    "\n",
    "print(model_102_fit.summary())"
   ]
  },
  {
   "cell_type": "code",
   "execution_count": null,
   "id": "bded74de",
   "metadata": {},
   "outputs": [],
   "source": [
    "#plot forecast ARIMA(1,0,2)\n",
    "plt.figure(figsize=(6,2))\n",
    "plt.plot(train.index, train, label='Training')\n",
    "plt.plot(test.index, test, label='Test')\n",
    "plt.plot(test.index, forecast_102, label='Forecast')\n",
    "plt.xticks(ticks=weekly_sales.index[::len(weekly_sales)//10], rotation=45)\n",
    "plt.legend(loc='upper left')\n",
    "plt.show()"
   ]
  },
  {
   "cell_type": "code",
   "execution_count": null,
   "id": "9f15b360",
   "metadata": {},
   "outputs": [],
   "source": [
    "#auto arima\n",
    "import pmdarima as pm\n",
    "auto_arima = pm.auto_arima(train, stepwise=False, seasonal=False)\n",
    "print(auto_arima)\n",
    "\n",
    "seasonal_auto_arima = pm.auto_arima(train, stepwise=False, seasonal=True)\n",
    "print(seasonal_auto_arima)"
   ]
  },
  {
   "cell_type": "code",
   "execution_count": null,
   "id": "650cfb49",
   "metadata": {},
   "outputs": [],
   "source": [
    "#plotting residuals ARIMA(0,0,0)\n",
    "residuals_000 = model_000_fit.resid\n",
    "\n",
    "plt.figure(figsize=(6,2))\n",
    "plt.plot(residuals_000)\n",
    "plt.title(\"Residuals ARIMA(0,0,0)\")\n",
    "plt.xticks(ticks=weekly_sales.index[::len(weekly_sales)//8], rotation=45)\n",
    "plt.xlabel(\"Date\")\n",
    "plt.ylabel(\"Residuals\")\n",
    "plt.show()"
   ]
  },
  {
   "cell_type": "code",
   "execution_count": null,
   "id": "5caed81f",
   "metadata": {},
   "outputs": [],
   "source": [
    "#plotting residuals ARIMA(1,0,2)\n",
    "residuals_102 = model_102_fit.resid\n",
    "\n",
    "plt.figure(figsize=(6,2))\n",
    "plt.plot(residuals_102)\n",
    "plt.title(\"Residuals ARIMA(1,0,2)\")\n",
    "plt.xticks(ticks=weekly_sales.index[::len(weekly_sales)//8], rotation=45)\n",
    "plt.xlabel(\"Date\")\n",
    "plt.ylabel(\"Residuals\")\n",
    "plt.savefig('residuals102')\n",
    "plt.show()"
   ]
  },
  {
   "cell_type": "code",
   "execution_count": null,
   "id": "4a8da77c",
   "metadata": {},
   "outputs": [],
   "source": [
    "#seasonal arima model\n",
    "from statsmodels.tsa.statespace.sarimax import SARIMAX\n",
    "sarima = SARIMAX(train, order=(0,0,4), seasonal_order=(1,1,1,52))\n",
    "sarima_fit = sarima.fit()\n",
    "sarima_forecast = sarima_fit.forecast(steps = len(test))"
   ]
  },
  {
   "cell_type": "code",
   "execution_count": null,
   "id": "c3d5ea61",
   "metadata": {},
   "outputs": [],
   "source": [
    "#plot sarima\n",
    "\n",
    "plt.figure(figsize=(6,2))\n",
    "plt.plot(train.index, train, label=\"train\")\n",
    "plt.plot(test.index, test, label=\"test\")\n",
    "plt.plot(test.index, sarima_forecast, label=\"forecast\")\n",
    "plt.xticks(ticks=weekly_sales.index[::len(weekly_sales)//8], rotation=45)\n",
    "plt.legend(loc=\"lower left\")\n",
    "plt.title(\"Weekly Sales Forecast\")\n",
    "plt.show()"
   ]
  },
  {
   "cell_type": "code",
   "execution_count": null,
   "id": "945a4bd8-56bc-4727-b30f-75022b27e055",
   "metadata": {},
   "outputs": [],
   "source": [
    "#sarima metrics\n",
    "from sklearn.metrics import mean_absolute_error, mean_squared_error\n",
    "true_values = test['Weekly_Sales']\n",
    "predicted_values = sarima_forecast\n",
    "\n",
    "mae = mean_absolute_error(true_values, predicted_values)\n",
    "rmse = np.sqrt(mean_squared_error(true_values, predicted_values))\n",
    "\n",
    "print(f\"MAE: {mae:.2f}\")\n",
    "print(f\"RMSE: {rmse:.2f}\")"
   ]
  },
  {
   "cell_type": "code",
   "execution_count": null,
   "id": "435ab1b7-0599-49f6-a1e6-87afef60eff7",
   "metadata": {},
   "outputs": [],
   "source": []
  }
 ],
 "metadata": {
  "kernelspec": {
   "display_name": "Python (venv)",
   "language": "python",
   "name": "venv"
  },
  "language_info": {
   "codemirror_mode": {
    "name": "ipython",
    "version": 3
   },
   "file_extension": ".py",
   "mimetype": "text/x-python",
   "name": "python",
   "nbconvert_exporter": "python",
   "pygments_lexer": "ipython3",
   "version": "3.12.2"
  }
 },
 "nbformat": 4,
 "nbformat_minor": 5
}
