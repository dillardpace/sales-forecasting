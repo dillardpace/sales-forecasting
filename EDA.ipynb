{
 "cells": [
  {
   "cell_type": "code",
   "execution_count": null,
   "id": "520c330c-42ac-413a-b808-43e8ae8d6edc",
   "metadata": {},
   "outputs": [],
   "source": [
    "import pandas as pd\n",
    "\n",
    "pd.set_option('display.max_rows', None)\n",
    "pd.set_option('display.max_columns', None)\n",
    "pd.set_option('display.expand_frame_repr', False)\n",
    "\n",
    "from sklearn.preprocessing import OneHotEncoder\n",
    "from sklearn.preprocessing import StandardScaler\n",
    "import numpy as np\n",
    "import seaborn as sns\n",
    "import matplotlib.pyplot as plt\n",
    "from scipy.stats import pointbiserialr\n",
    "from scipy.stats import chi2_contingency\n",
    "from sklearn.linear_model import LogisticRegression\n",
    "from sklearn.model_selection import train_test_split\n",
    "from sklearn.metrics import accuracy_score, classification_report, confusion_matrix\n",
    "from IPython.core.interactiveshell import InteractiveShell\n",
    "import os\n",
    "InteractiveShell.ast_node_interactivity = \"all\""
   ]
  },
  {
   "cell_type": "code",
   "execution_count": null,
   "id": "ef5d14b1-6013-41f0-b073-cbd34067abc3",
   "metadata": {},
   "outputs": [],
   "source": [
    "# from ydata_profiling import ProfileReport\n",
    "# import openai\n",
    "# from openai import OpenAI\n",
    "# import streamlit as st"
   ]
  },
  {
   "cell_type": "code",
   "execution_count": null,
   "id": "a68bc403-c262-4362-aa08-ff4d95619765",
   "metadata": {},
   "outputs": [],
   "source": [
    "features = pd.read_csv('/Users/dillardpace/Desktop/Data Science Projects/archive (1)/features.csv')\n",
    "stores = pd.read_csv('/Users/dillardpace/Desktop/Data Science Projects/archive (1)/stores.csv')\n",
    "train = pd.read_csv('/Users/dillardpace/Desktop/Data Science Projects/archive (1)/train.csv')"
   ]
  },
  {
   "cell_type": "code",
   "execution_count": null,
   "id": "5c5fcee0-3767-4fec-8ab1-9ae30d234cd7",
   "metadata": {},
   "outputs": [],
   "source": [
    "# from openai import OpenAI\n",
    "\n",
    "# response = client.chat.completions.create(\n",
    "#     model=\"gpt-4o-mini\",\n",
    "#     messages=[{\"role\": \"user\", \"content\": \"Hello\"}]\n",
    "# )\n",
    "\n",
    "# print(response.choices[0].message.content)"
   ]
  },
  {
   "cell_type": "code",
   "execution_count": null,
   "id": "36f6d5e4-632e-44bc-b087-cb8a53380c1e",
   "metadata": {},
   "outputs": [],
   "source": [
    "features.describe()"
   ]
  },
  {
   "cell_type": "code",
   "execution_count": null,
   "id": "ec51618e-6cec-4b1a-a3fb-55bda0df29f7",
   "metadata": {},
   "outputs": [],
   "source": [
    "features.head(5)"
   ]
  },
  {
   "cell_type": "code",
   "execution_count": null,
   "id": "11c2b723-51d2-466b-8f1b-dbe6171db6ab",
   "metadata": {},
   "outputs": [],
   "source": [
    "stores.describe()"
   ]
  },
  {
   "cell_type": "code",
   "execution_count": null,
   "id": "8c837f97-def5-40a5-b232-fd107ba327f7",
   "metadata": {},
   "outputs": [],
   "source": [
    "stores.head(5)"
   ]
  },
  {
   "cell_type": "code",
   "execution_count": null,
   "id": "c6bb0b9f-f613-44d5-aef7-362251aeac9d",
   "metadata": {},
   "outputs": [],
   "source": [
    "max_date = train['Date'].max()\n",
    "min_date = train['Date'].min()\n",
    "print(f\"This data begins at the date: {min_date} and ends at date: {max_date}\")"
   ]
  },
  {
   "cell_type": "code",
   "execution_count": null,
   "id": "fa3fb9ea-39c7-480d-a855-5659cdad3c54",
   "metadata": {},
   "outputs": [],
   "source": [
    "train.describe()"
   ]
  },
  {
   "cell_type": "code",
   "execution_count": null,
   "id": "4bd93fbf-577d-43cc-b0c4-669e47c08043",
   "metadata": {},
   "outputs": [],
   "source": [
    "#looking at nan value totals\n",
    "for col in features:\n",
    "    print(f'{col} : {features[col].isna().sum()}')"
   ]
  },
  {
   "cell_type": "code",
   "execution_count": null,
   "id": "e4aceea0-c63a-46d5-8c4d-98b4e9bd5a76",
   "metadata": {},
   "outputs": [],
   "source": [
    "features.dropna(subset=['CPI'], inplace=True)\n",
    "\n",
    "print(features['CPI'].isna().sum())\n",
    "print(features['Unemployment'].isna().sum())"
   ]
  },
  {
   "cell_type": "code",
   "execution_count": null,
   "id": "de4ce566-4013-43ed-86e4-8cbd021475d3",
   "metadata": {},
   "outputs": [],
   "source": [
    "features.describe()"
   ]
  },
  {
   "cell_type": "code",
   "execution_count": null,
   "id": "3e0d81d1-ff31-41c4-b4ef-5fae1d25e567",
   "metadata": {},
   "outputs": [],
   "source": [
    "features.boxplot(column=['MarkDown1','MarkDown2','MarkDown3','MarkDown4'])"
   ]
  },
  {
   "cell_type": "code",
   "execution_count": null,
   "id": "5f18b2d2-7890-47d0-ae42-8f70c3607fff",
   "metadata": {},
   "outputs": [],
   "source": [
    "train = train.merge(stores, on='Store', how='inner')\n",
    "train = train.merge(features, on=['Store','Date'], how='inner')\n",
    "train.describe()\n",
    "train.shape\n",
    "\n",
    "for col in train:\n",
    "    print(f\"{col} : {train[col].isna().sum()}\")"
   ]
  },
  {
   "cell_type": "code",
   "execution_count": null,
   "id": "d4755200-7c3b-481e-ba67-10d5ebb65f1b",
   "metadata": {},
   "outputs": [],
   "source": [
    "# def generate_ai_eda_report(df: pd.DataFrame, dataset_name=\"\"):\n",
    "#     data_sample = df.sample(min(100, len(df))).to_csv(index=False)\n",
    "#     system_prompt = (\n",
    "#         f\"You are an expert data scientist. You help analyze datasets for exploratory data analysis. \"\n",
    "#         f\"Summarize the key features, missing values, distributions, correlations, and interesting trends. \"\n",
    "#         f\"Suggest and write Python visualizations using matplotlib/seaborn. \"\n",
    "#         f\"Dataset name: {dataset_name}\"\n",
    "#     )\n",
    "#     user_prompt = (\n",
    "#         f\"This is a sample from a pandas DataFrame:\\n\\n{data_sample}\\n\\n\"\n",
    "#         f\"Provide an EDA summary and Python code to generate the most important visualizations.\"\n",
    "#     )\n",
    "\n",
    "#     response = client.chat.completions.create(\n",
    "#         model=\"gpt-4o-mini\",\n",
    "#         messages=[\n",
    "#             {\"role\": \"system\", \"content\": system_prompt},\n",
    "#             {\"role\": \"user\", \"content\": user_prompt}\n",
    "#         ]\n",
    "#     )\n",
    "\n",
    "#     return response.choices[0].message.content"
   ]
  },
  {
   "cell_type": "code",
   "execution_count": null,
   "id": "6645ab35-02ae-43cc-8378-e3b24021c3b4",
   "metadata": {},
   "outputs": [],
   "source": [
    "# eda_report = generate_ai_eda_report(train, \"Walmart Sales Forecast EDA Report\")\n",
    "# print(eda_report)"
   ]
  },
  {
   "cell_type": "code",
   "execution_count": null,
   "id": "0a389896-3c6a-4b9a-ba05-57f34579d259",
   "metadata": {},
   "outputs": [],
   "source": [
    "#fill na values\n",
    "markdown_columns = ['MarkDown1', 'MarkDown2', 'MarkDown3', 'MarkDown4', 'MarkDown5']\n",
    "train[markdown_columns] = train[markdown_columns].fillna(0)"
   ]
  },
  {
   "cell_type": "code",
   "execution_count": null,
   "id": "f4b7ba90-c870-40ab-9484-57af50c94479",
   "metadata": {},
   "outputs": [],
   "source": [
    "df = train\n",
    "df.info()"
   ]
  },
  {
   "cell_type": "code",
   "execution_count": null,
   "id": "33521039-22e5-4bf1-ad7d-4f891efa9563",
   "metadata": {},
   "outputs": [],
   "source": [
    "df.to_csv(\"df.csv\", index=False)"
   ]
  }
 ],
 "metadata": {
  "kernelspec": {
   "display_name": "Python (venv)",
   "language": "python",
   "name": "venv"
  },
  "language_info": {
   "codemirror_mode": {
    "name": "ipython",
    "version": 3
   },
   "file_extension": ".py",
   "mimetype": "text/x-python",
   "name": "python",
   "nbconvert_exporter": "python",
   "pygments_lexer": "ipython3",
   "version": "3.12.2"
  }
 },
 "nbformat": 4,
 "nbformat_minor": 5
}
